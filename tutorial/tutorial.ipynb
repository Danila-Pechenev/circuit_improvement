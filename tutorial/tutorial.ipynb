{
 "nbformat": 4,
 "nbformat_minor": 0,
 "metadata": {
  "colab": {
   "name": "sat.ipynb",
   "provenance": [],
   "collapsed_sections": [],
   "authorship_tag": "ABX9TyPSx+kFdqnjePOqmsv1zMIo"
  },
  "kernelspec": {
   "name": "python3",
   "display_name": "Python 3"
  }
 },
 "cells": [
  {
   "cell_type": "code",
   "metadata": {
    "id": "9t39vYaFviGt"
   },
   "source": [
    "%cd\n",
    "%cd ../content\n",
    "%rm -r *\n",
    "!git clone https://github.com/alexanderskulikov/circuit_improvement.git\n",
    "%cd circuit_improvement"
   ],
   "execution_count": null,
   "outputs": []
  },
  {
   "cell_type": "code",
   "metadata": {
    "id": "txqRvHGEIxR1"
   },
   "source": [
    "!pip install pycosat\n",
    "!apt install libgraphviz-dev\n",
    "!pip install pygraphviz\n",
    "import pygraphviz\n",
    "import sys\n",
    "from timeit import default_timer as timer\n",
    "from IPython.display import Image\n",
    "import circuit_improvement\n",
    "from circuit_improvement import *\n",
    "from circuit import Circuit\n",
    "from circuit_search import find_circuit, CircuitFinder\n",
    "from main import *\n",
    "from itertools import product\n",
    "from math import ceil, log2"
   ],
   "execution_count": null,
   "outputs": []
  },
  {
   "cell_type": "code",
   "metadata": {
    "id": "7VYyEQRKyPhB"
   },
   "source": [
    "#@title Improve circuit\n",
    "\n",
    "improved_circuit = run_improve_circuit(add_sum5_suboptimal, 5, subcircuit_size=5, connected=True)\n",
    "print(improved_circuit)\n",
    "improved_circuit.draw('sum5')\n",
    "Image('circuits/.images/sum5.png')\n"
   ],
   "execution_count": null,
   "outputs": []
  },
  {
   "cell_type": "code",
   "metadata": {
    "id": "kDwdQP4q1-Ny"
   },
   "source": [
    "#@title Find circuit by truth table\n",
    "\n",
    "def sum_n(x):\n",
    "    assert all(a in (0, 1) for a in x)\n",
    "    s, t = sum(x), ceil(log2(len(x) + 1))\n",
    "    return [(s >> i) & 1 for i in range(t)]\n",
    "\n",
    "circuit_finder = CircuitFinder(dimension=3, number_of_gates=5, function=sum_n)\n",
    "circuit = circuit_finder.solve_cnf_formula()\n",
    "print(circuit)"
   ],
   "execution_count": null,
   "outputs": []
  },
  {
   "cell_type": "code",
   "metadata": {
    "id": "x19RsQ15xcUt"
   },
   "source": [
    "#@title Checking the circuit for correctness\n",
    "\n",
    "circuit = Circuit(input_labels=['x1', 'x2', 'x3', 'x4', 'x5'], gates={})\n",
    "x1, x2, x3, x4, x5 = circuit.input_labels\n",
    "a0, a1 = add_sum3(circuit, [x1, x2, x3])\n",
    "b0, b1 = add_sum3(circuit, [a0, x4, x5])\n",
    "w1, w2 = add_sum2(circuit, [a1, b1])\n",
    "circuit.outputs = [b0, w1, w2]\n",
    "check_sum_circuit(circuit)\n",
    "print(circuit)\n",
    "circuit.draw('sum5')\n",
    "Image('circuits/.images/sum5.png')"
   ],
   "execution_count": null,
   "outputs": []
  }
 ]
}